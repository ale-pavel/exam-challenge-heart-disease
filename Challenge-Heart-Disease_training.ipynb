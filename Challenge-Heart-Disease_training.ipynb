{
 "cells": [
  {
   "cell_type": "code",
   "execution_count": null,
   "metadata": {},
   "outputs": [],
   "source": [
    "!pip install -r requirements.txt"
   ]
  },
  {
   "cell_type": "code",
   "execution_count": 2,
   "metadata": {},
   "outputs": [],
   "source": [
    "import pandas as pd\n",
    "import numpy as np\n",
    "\n",
    "import seaborn as sns\n",
    "%matplotlib inline\n",
    "import matplotlib.pyplot as plt"
   ]
  },
  {
   "cell_type": "code",
   "execution_count": 3,
   "metadata": {},
   "outputs": [],
   "source": [
    "train_data = pd.read_csv('train.csv')\n",
    "test_data = pd.read_csv('test.csv')"
   ]
  },
  {
   "cell_type": "code",
   "execution_count": 4,
   "metadata": {},
   "outputs": [
    {
     "name": "stdout",
     "output_type": "stream",
     "text": [
      "(191, 13)\n",
      "(48, 13)\n"
     ]
    }
   ],
   "source": [
    "print(train_data.shape)\n",
    "print(test_data.shape)"
   ]
  },
  {
   "cell_type": "markdown",
   "metadata": {},
   "source": [
    "# Preprocessing"
   ]
  },
  {
   "cell_type": "markdown",
   "metadata": {},
   "source": [
    "## Drop delle colonne ritenute superflue, separazione train/test in X, y"
   ]
  },
  {
   "cell_type": "markdown",
   "metadata": {},
   "source": [
    "Vedere la fine del notebook di preparazione per le motivazioni del drop di time"
   ]
  },
  {
   "cell_type": "code",
   "execution_count": 5,
   "metadata": {},
   "outputs": [],
   "source": [
    "X_train = train_data.drop(columns=['DEATH_EVENT', 'time'])\n",
    "y_train = train_data['DEATH_EVENT']\n",
    "\n",
    "X_test = test_data.drop(columns=['DEATH_EVENT', 'time'])\n",
    "y_test = test_data['DEATH_EVENT']"
   ]
  },
  {
   "cell_type": "markdown",
   "metadata": {},
   "source": [
    "Il dataset ha solo colonne int64 o float64, qualsiasi valore sporco viene convertito in NaN e poi dato in pasto al SimpleImputer nella Pipeline per sostituirlo con un valore numerico."
   ]
  },
  {
   "cell_type": "code",
   "execution_count": 6,
   "metadata": {},
   "outputs": [],
   "source": [
    "X_train = X_train.apply(pd.to_numeric, errors = 'coerce')\n",
    "X_test = X_test.apply(pd.to_numeric, errors = 'coerce')"
   ]
  },
  {
   "cell_type": "code",
   "execution_count": 7,
   "metadata": {},
   "outputs": [
    {
     "data": {
      "text/plain": [
       "age                         0\n",
       "anaemia                     0\n",
       "creatinine_phosphokinase    0\n",
       "diabetes                    0\n",
       "ejection_fraction           0\n",
       "high_blood_pressure         0\n",
       "platelets                   0\n",
       "serum_creatinine            0\n",
       "serum_sodium                0\n",
       "sex                         0\n",
       "smoking                     0\n",
       "dtype: int64"
      ]
     },
     "execution_count": 7,
     "metadata": {},
     "output_type": "execute_result"
    }
   ],
   "source": [
    "X_train.isna().sum()"
   ]
  },
  {
   "cell_type": "markdown",
   "metadata": {},
   "source": [
    "### Pulizia di tutti i valori np.NaN"
   ]
  },
  {
   "cell_type": "code",
   "execution_count": 8,
   "metadata": {},
   "outputs": [],
   "source": [
    "X_train = X_train.fillna(X_train.mean().round())\n",
    "X_test = X_test.fillna(X_test.mean().round())"
   ]
  },
  {
   "cell_type": "code",
   "execution_count": 9,
   "metadata": {},
   "outputs": [
    {
     "data": {
      "text/plain": [
       "age                         0\n",
       "anaemia                     0\n",
       "creatinine_phosphokinase    0\n",
       "diabetes                    0\n",
       "ejection_fraction           0\n",
       "high_blood_pressure         0\n",
       "platelets                   0\n",
       "serum_creatinine            0\n",
       "serum_sodium                0\n",
       "sex                         0\n",
       "smoking                     0\n",
       "dtype: int64"
      ]
     },
     "execution_count": 9,
     "metadata": {},
     "output_type": "execute_result"
    }
   ],
   "source": [
    "X_train.isna().sum()"
   ]
  },
  {
   "cell_type": "markdown",
   "metadata": {},
   "source": [
    "### Conversione in colonne intere e scaling di alcune feature"
   ]
  },
  {
   "cell_type": "markdown",
   "metadata": {},
   "source": [
    "platelets e serum_creatinine hanno valori min/max in range grandi o piccoli, li normalizziamo"
   ]
  },
  {
   "cell_type": "code",
   "execution_count": 10,
   "metadata": {},
   "outputs": [
    {
     "data": {
      "text/plain": [
       "count       191.000000\n",
       "mean     266520.264136\n",
       "std       91414.440907\n",
       "min       47000.000000\n",
       "25%      217500.000000\n",
       "50%      263358.030000\n",
       "75%      303500.000000\n",
       "max      742000.000000\n",
       "Name: platelets, dtype: float64"
      ]
     },
     "execution_count": 10,
     "metadata": {},
     "output_type": "execute_result"
    }
   ],
   "source": [
    "X_train.platelets.describe()"
   ]
  },
  {
   "cell_type": "code",
   "execution_count": 11,
   "metadata": {},
   "outputs": [
    {
     "data": {
      "text/plain": [
       "count    191.000000\n",
       "mean       1.297853\n",
       "std        0.649890\n",
       "min        0.600000\n",
       "25%        0.900000\n",
       "50%        1.100000\n",
       "75%        1.400000\n",
       "max        5.000000\n",
       "Name: serum_creatinine, dtype: float64"
      ]
     },
     "execution_count": 11,
     "metadata": {},
     "output_type": "execute_result"
    }
   ],
   "source": [
    "X_train.serum_creatinine.describe()"
   ]
  },
  {
   "cell_type": "code",
   "execution_count": 12,
   "metadata": {},
   "outputs": [],
   "source": [
    "X_train.platelets = X_train.platelets / 10**3\n",
    "X_train.serum_creatinine = X_train.serum_creatinine * 10**2\n",
    "\n",
    "X_test.platelets = X_test.platelets / 10**3\n",
    "X_test.serum_creatinine = X_test.serum_creatinine * 10**2"
   ]
  },
  {
   "cell_type": "code",
   "execution_count": 13,
   "metadata": {},
   "outputs": [],
   "source": [
    "X_train = X_train.round().astype(np.int64)\n",
    "X_test = X_test.round().astype(np.int64)"
   ]
  },
  {
   "cell_type": "code",
   "execution_count": 14,
   "metadata": {},
   "outputs": [
    {
     "data": {
      "text/html": [
       "<div>\n",
       "<style scoped>\n",
       "    .dataframe tbody tr th:only-of-type {\n",
       "        vertical-align: middle;\n",
       "    }\n",
       "\n",
       "    .dataframe tbody tr th {\n",
       "        vertical-align: top;\n",
       "    }\n",
       "\n",
       "    .dataframe thead th {\n",
       "        text-align: right;\n",
       "    }\n",
       "</style>\n",
       "<table border=\"1\" class=\"dataframe\">\n",
       "  <thead>\n",
       "    <tr style=\"text-align: right;\">\n",
       "      <th></th>\n",
       "      <th>age</th>\n",
       "      <th>anaemia</th>\n",
       "      <th>creatinine_phosphokinase</th>\n",
       "      <th>diabetes</th>\n",
       "      <th>ejection_fraction</th>\n",
       "      <th>high_blood_pressure</th>\n",
       "      <th>platelets</th>\n",
       "      <th>serum_creatinine</th>\n",
       "      <th>serum_sodium</th>\n",
       "      <th>sex</th>\n",
       "      <th>smoking</th>\n",
       "    </tr>\n",
       "  </thead>\n",
       "  <tbody>\n",
       "    <tr>\n",
       "      <th>0</th>\n",
       "      <td>55</td>\n",
       "      <td>0</td>\n",
       "      <td>1820</td>\n",
       "      <td>0</td>\n",
       "      <td>38</td>\n",
       "      <td>0</td>\n",
       "      <td>270</td>\n",
       "      <td>120</td>\n",
       "      <td>139</td>\n",
       "      <td>0</td>\n",
       "      <td>0</td>\n",
       "    </tr>\n",
       "    <tr>\n",
       "      <th>1</th>\n",
       "      <td>68</td>\n",
       "      <td>1</td>\n",
       "      <td>220</td>\n",
       "      <td>0</td>\n",
       "      <td>35</td>\n",
       "      <td>1</td>\n",
       "      <td>289</td>\n",
       "      <td>90</td>\n",
       "      <td>140</td>\n",
       "      <td>1</td>\n",
       "      <td>1</td>\n",
       "    </tr>\n",
       "    <tr>\n",
       "      <th>2</th>\n",
       "      <td>42</td>\n",
       "      <td>0</td>\n",
       "      <td>5209</td>\n",
       "      <td>0</td>\n",
       "      <td>30</td>\n",
       "      <td>0</td>\n",
       "      <td>226</td>\n",
       "      <td>100</td>\n",
       "      <td>140</td>\n",
       "      <td>1</td>\n",
       "      <td>1</td>\n",
       "    </tr>\n",
       "    <tr>\n",
       "      <th>3</th>\n",
       "      <td>50</td>\n",
       "      <td>1</td>\n",
       "      <td>121</td>\n",
       "      <td>1</td>\n",
       "      <td>40</td>\n",
       "      <td>0</td>\n",
       "      <td>260</td>\n",
       "      <td>70</td>\n",
       "      <td>130</td>\n",
       "      <td>1</td>\n",
       "      <td>0</td>\n",
       "    </tr>\n",
       "    <tr>\n",
       "      <th>4</th>\n",
       "      <td>50</td>\n",
       "      <td>1</td>\n",
       "      <td>168</td>\n",
       "      <td>0</td>\n",
       "      <td>38</td>\n",
       "      <td>1</td>\n",
       "      <td>276</td>\n",
       "      <td>110</td>\n",
       "      <td>137</td>\n",
       "      <td>1</td>\n",
       "      <td>0</td>\n",
       "    </tr>\n",
       "  </tbody>\n",
       "</table>\n",
       "</div>"
      ],
      "text/plain": [
       "   age  anaemia  creatinine_phosphokinase  diabetes  ejection_fraction  \\\n",
       "0   55        0                      1820         0                 38   \n",
       "1   68        1                       220         0                 35   \n",
       "2   42        0                      5209         0                 30   \n",
       "3   50        1                       121         1                 40   \n",
       "4   50        1                       168         0                 38   \n",
       "\n",
       "   high_blood_pressure  platelets  serum_creatinine  serum_sodium  sex  \\\n",
       "0                    0        270               120           139    0   \n",
       "1                    1        289                90           140    1   \n",
       "2                    0        226               100           140    1   \n",
       "3                    0        260                70           130    1   \n",
       "4                    1        276               110           137    1   \n",
       "\n",
       "   smoking  \n",
       "0        0  \n",
       "1        1  \n",
       "2        1  \n",
       "3        0  \n",
       "4        0  "
      ]
     },
     "execution_count": 14,
     "metadata": {},
     "output_type": "execute_result"
    }
   ],
   "source": [
    "X_train.head()"
   ]
  },
  {
   "cell_type": "markdown",
   "metadata": {},
   "source": [
    "### Feature che considera tutti i fattori di rischio (booleani) insieme (risk_factor)"
   ]
  },
  {
   "cell_type": "code",
   "execution_count": 15,
   "metadata": {},
   "outputs": [],
   "source": [
    "boolean_features = ['anaemia', 'diabetes', 'high_blood_pressure', 'smoking']"
   ]
  },
  {
   "cell_type": "code",
   "execution_count": 16,
   "metadata": {},
   "outputs": [],
   "source": [
    "X_train[boolean_features].sum(axis=1)\n",
    "X_train['risk_factor'] = X_train[boolean_features].sum(axis=1)\n",
    "X_train = X_train.drop(columns=boolean_features)\n",
    "\n",
    "X_test[boolean_features].sum(axis=1)\n",
    "X_test['risk_factor'] = X_test[boolean_features].sum(axis=1)\n",
    "X_test = X_test.drop(columns=boolean_features)"
   ]
  },
  {
   "cell_type": "code",
   "execution_count": 17,
   "metadata": {},
   "outputs": [
    {
     "data": {
      "text/html": [
       "<div>\n",
       "<style scoped>\n",
       "    .dataframe tbody tr th:only-of-type {\n",
       "        vertical-align: middle;\n",
       "    }\n",
       "\n",
       "    .dataframe tbody tr th {\n",
       "        vertical-align: top;\n",
       "    }\n",
       "\n",
       "    .dataframe thead th {\n",
       "        text-align: right;\n",
       "    }\n",
       "</style>\n",
       "<table border=\"1\" class=\"dataframe\">\n",
       "  <thead>\n",
       "    <tr style=\"text-align: right;\">\n",
       "      <th></th>\n",
       "      <th>age</th>\n",
       "      <th>creatinine_phosphokinase</th>\n",
       "      <th>ejection_fraction</th>\n",
       "      <th>platelets</th>\n",
       "      <th>serum_creatinine</th>\n",
       "      <th>serum_sodium</th>\n",
       "      <th>sex</th>\n",
       "      <th>risk_factor</th>\n",
       "    </tr>\n",
       "  </thead>\n",
       "  <tbody>\n",
       "    <tr>\n",
       "      <th>0</th>\n",
       "      <td>55</td>\n",
       "      <td>1820</td>\n",
       "      <td>38</td>\n",
       "      <td>270</td>\n",
       "      <td>120</td>\n",
       "      <td>139</td>\n",
       "      <td>0</td>\n",
       "      <td>0</td>\n",
       "    </tr>\n",
       "    <tr>\n",
       "      <th>1</th>\n",
       "      <td>68</td>\n",
       "      <td>220</td>\n",
       "      <td>35</td>\n",
       "      <td>289</td>\n",
       "      <td>90</td>\n",
       "      <td>140</td>\n",
       "      <td>1</td>\n",
       "      <td>3</td>\n",
       "    </tr>\n",
       "    <tr>\n",
       "      <th>2</th>\n",
       "      <td>42</td>\n",
       "      <td>5209</td>\n",
       "      <td>30</td>\n",
       "      <td>226</td>\n",
       "      <td>100</td>\n",
       "      <td>140</td>\n",
       "      <td>1</td>\n",
       "      <td>1</td>\n",
       "    </tr>\n",
       "    <tr>\n",
       "      <th>3</th>\n",
       "      <td>50</td>\n",
       "      <td>121</td>\n",
       "      <td>40</td>\n",
       "      <td>260</td>\n",
       "      <td>70</td>\n",
       "      <td>130</td>\n",
       "      <td>1</td>\n",
       "      <td>2</td>\n",
       "    </tr>\n",
       "    <tr>\n",
       "      <th>4</th>\n",
       "      <td>50</td>\n",
       "      <td>168</td>\n",
       "      <td>38</td>\n",
       "      <td>276</td>\n",
       "      <td>110</td>\n",
       "      <td>137</td>\n",
       "      <td>1</td>\n",
       "      <td>2</td>\n",
       "    </tr>\n",
       "  </tbody>\n",
       "</table>\n",
       "</div>"
      ],
      "text/plain": [
       "   age  creatinine_phosphokinase  ejection_fraction  platelets  \\\n",
       "0   55                      1820                 38        270   \n",
       "1   68                       220                 35        289   \n",
       "2   42                      5209                 30        226   \n",
       "3   50                       121                 40        260   \n",
       "4   50                       168                 38        276   \n",
       "\n",
       "   serum_creatinine  serum_sodium  sex  risk_factor  \n",
       "0               120           139    0            0  \n",
       "1                90           140    1            3  \n",
       "2               100           140    1            1  \n",
       "3                70           130    1            2  \n",
       "4               110           137    1            2  "
      ]
     },
     "execution_count": 17,
     "metadata": {},
     "output_type": "execute_result"
    }
   ],
   "source": [
    "X_train.head()"
   ]
  },
  {
   "cell_type": "code",
   "execution_count": 18,
   "metadata": {},
   "outputs": [
    {
     "data": {
      "text/plain": [
       "age                         int64\n",
       "creatinine_phosphokinase    int64\n",
       "ejection_fraction           int64\n",
       "platelets                   int64\n",
       "serum_creatinine            int64\n",
       "serum_sodium                int64\n",
       "sex                         int64\n",
       "risk_factor                 int64\n",
       "dtype: object"
      ]
     },
     "execution_count": 18,
     "metadata": {},
     "output_type": "execute_result"
    }
   ],
   "source": [
    "X_train.dtypes"
   ]
  },
  {
   "cell_type": "markdown",
   "metadata": {},
   "source": [
    "# Scelta dei modelli, training e fit"
   ]
  },
  {
   "cell_type": "code",
   "execution_count": 19,
   "metadata": {},
   "outputs": [],
   "source": [
    "from sklearn.tree import DecisionTreeClassifier\n",
    "from sklearn import tree\n",
    "from sklearn.linear_model import LogisticRegression\n",
    "from sklearn.ensemble import RandomForestClassifier\n",
    "from sklearn.neighbors import KNeighborsClassifier\n",
    "from sklearn.preprocessing import OneHotEncoder\n",
    "from sklearn.impute import SimpleImputer\n",
    "from sklearn.metrics import confusion_matrix\n",
    "from sklearn.metrics import plot_confusion_matrix"
   ]
  },
  {
   "cell_type": "markdown",
   "metadata": {},
   "source": [
    "### Pipeline\n",
    "\n",
    "La Pipeline è utile per concatenare diverse operazioni di trasformazione (tra cui imputation, scaling e altro) facendo fit_transform su training set e transform su test set. Per ultimo l'utilizzo di un modello per fare il fit sui dati di training e il predict sui dati di test.\n",
    "\n",
    "GridSearchCV prenderà come parametri la Pipeline (su cui fare fit_transform/transform a seconda dei dati di train/test) e il numero di k-fold da effettuare nella Cross Validation."
   ]
  },
  {
   "cell_type": "code",
   "execution_count": 20,
   "metadata": {},
   "outputs": [],
   "source": [
    "from sklearn.pipeline import Pipeline\n",
    "pipe = Pipeline([\n",
    "        ('imputer', SimpleImputer(strategy='median')),\n",
    "        ('model', DecisionTreeClassifier())\n",
    "        ])"
   ]
  },
  {
   "cell_type": "markdown",
   "metadata": {},
   "source": [
    "Il tuning dei parametri risulta fondamentale per evitare overfitting, in particolare per il DecisionTreeClassifier che con depth > 7 presenta questo problema in modo significativo (anche per depth = 1 c'erano problemi per la selezione di una sola feature nel decision stump). \n",
    "\n",
    "Valori di profondità alti per un DecisionTree corrispondono ad un'alta complessità del modello, che è da evitare. Così come i pesi nella LogisticRegression vengono limitati dalla penalty L1 o L2. \n",
    "\n",
    "Il dataset ha pochi elementi, si deve evitare under/overfitting mantenendo la complessità del modello ad un livello intermedio."
   ]
  },
  {
   "cell_type": "code",
   "execution_count": 21,
   "metadata": {},
   "outputs": [],
   "source": [
    "params = [\n",
    "            {'model': [DecisionTreeClassifier()],\n",
    "            #'model__criterion': ['gini', 'entropy'],\n",
    "            #'model__splitter': ['best', 'random'],\n",
    "            #'model__min_samples_split': [1, 2, 3],\n",
    "            #'model__min_samples_leaf': [1, 2, 3],\n",
    "            'model__max_features': ['auto', 'sqrt'],\n",
    "            'model__max_depth': np.arange(2,7)},\n",
    "            {'model': [LogisticRegression()],\n",
    "            'model__max_iter': [1000],\n",
    "            'model__penalty': ['l2', 'l1'],\n",
    "            'model__C': np.logspace(0, 3, 20)},\n",
    "            #{'model': [RandomForestClassifier()],\n",
    "            #'model__n_estimators': [10, 100],\n",
    "            #'model__max_features': ['auto', 'sqrt'],\n",
    "            #'model__min_samples_leaf': [1, 4],\n",
    "            #'model__min_samples_split': [2, 10],\n",
    "            #'model__max_depth': np.arange(1,8)},\n",
    "            #{'model': [KNeighborsClassifier()],\n",
    "            #'model__n_neighbors': np.arange(2,8),\n",
    "            #'model__leaf_size': list(range(10,30)),\n",
    "            #'model__p': [1, 2]}\n",
    "            ]"
   ]
  },
  {
   "cell_type": "markdown",
   "metadata": {},
   "source": [
    "### GridSearchCV\n",
    "\n",
    "La GridSearchCV è utile per stimare il modello coi migliori parametri, per ogni combinazione dei modelli e parametri forniti. Viene anche effettuata la Cross Validation (CV) per rendere più affidabile lo score calcolato (valori di k-fold ottimali sono k=5 e k=10, ed anche k=20 è stato testato con ottimi risultati). \n",
    "\n",
    "La Leave-One-Out con k=n_osservazioni non viene consigliata nella pratica, e non è neanche possibile utilizzarla nella GridSearchCV poiché essa usa una StratifiedKFold, che mantiene le proporzioni delle classi di target nel validation set, necessitando che ci sia almeno un rappresentante per ogni valore possibile.\n",
    "\n",
    "Si effettua quindi una ricerca nello spazio dei parametri dei classificatori indicati, facendo fit su tutte le possibili combinazioni specificate tramite la lista dizionari params. Infine sceglie il miglior modello e suoi migliori parametri da una tabella che calcola man mano (gridsearch.cv_results_) dove ci sono i ranking di tutte le possibili scelte effettuate.\n",
    "\n",
    "NOTA: Se il GridSearch con n_jobs=4 provoca problemi (freeze/computazione che non termina/altro) potrebbe dipendere dall'OS utilizzato. Per un funzionamento stabile usare n_jobs=1"
   ]
  },
  {
   "cell_type": "code",
   "execution_count": 22,
   "metadata": {},
   "outputs": [
    {
     "name": "stdout",
     "output_type": "stream",
     "text": [
      "Fitting 20 folds for each of 50 candidates, totalling 1000 fits\n"
     ]
    },
    {
     "name": "stderr",
     "output_type": "stream",
     "text": [
      "[Parallel(n_jobs=4)]: Using backend LokyBackend with 4 concurrent workers.\n",
      "[Parallel(n_jobs=4)]: Done  68 tasks      | elapsed:    3.1s\n",
      "[Parallel(n_jobs=4)]: Done 1000 out of 1000 | elapsed:   16.8s finished\n"
     ]
    }
   ],
   "source": [
    "from sklearn.model_selection import GridSearchCV\n",
    "gridsearch = GridSearchCV(pipe, params, cv=20, verbose=1, n_jobs=4).fit(X_train, y_train) #cv=5 o 10\n",
    "#print('Score migliore di test accuracy: ', gridsearch.score(X_test, y_test))"
   ]
  },
  {
   "cell_type": "markdown",
   "metadata": {},
   "source": [
    "Di seguito la classifica dei migliori modelli valutati dalla GridSearch, ordinati per media degli score calcolati durante la CV"
   ]
  },
  {
   "cell_type": "code",
   "execution_count": 23,
   "metadata": {},
   "outputs": [
    {
     "data": {
      "text/html": [
       "<div>\n",
       "<style scoped>\n",
       "    .dataframe tbody tr th:only-of-type {\n",
       "        vertical-align: middle;\n",
       "    }\n",
       "\n",
       "    .dataframe tbody tr th {\n",
       "        vertical-align: top;\n",
       "    }\n",
       "\n",
       "    .dataframe thead th {\n",
       "        text-align: right;\n",
       "    }\n",
       "</style>\n",
       "<table border=\"1\" class=\"dataframe\">\n",
       "  <thead>\n",
       "    <tr style=\"text-align: right;\">\n",
       "      <th></th>\n",
       "      <th>params</th>\n",
       "      <th>mean_test_score</th>\n",
       "      <th>rank_test_score</th>\n",
       "    </tr>\n",
       "  </thead>\n",
       "  <tbody>\n",
       "    <tr>\n",
       "      <th>28</th>\n",
       "      <td>{'model': LogisticRegression(C=26.366508987303...</td>\n",
       "      <td>0.758333</td>\n",
       "      <td>1</td>\n",
       "    </tr>\n",
       "    <tr>\n",
       "      <th>30</th>\n",
       "      <td>{'model': LogisticRegression(C=26.366508987303...</td>\n",
       "      <td>0.758333</td>\n",
       "      <td>1</td>\n",
       "    </tr>\n",
       "    <tr>\n",
       "      <th>46</th>\n",
       "      <td>{'model': LogisticRegression(C=26.366508987303...</td>\n",
       "      <td>0.758333</td>\n",
       "      <td>1</td>\n",
       "    </tr>\n",
       "    <tr>\n",
       "      <th>44</th>\n",
       "      <td>{'model': LogisticRegression(C=26.366508987303...</td>\n",
       "      <td>0.758333</td>\n",
       "      <td>1</td>\n",
       "    </tr>\n",
       "    <tr>\n",
       "      <th>42</th>\n",
       "      <td>{'model': LogisticRegression(C=26.366508987303...</td>\n",
       "      <td>0.758333</td>\n",
       "      <td>1</td>\n",
       "    </tr>\n",
       "    <tr>\n",
       "      <th>32</th>\n",
       "      <td>{'model': LogisticRegression(C=26.366508987303...</td>\n",
       "      <td>0.758333</td>\n",
       "      <td>1</td>\n",
       "    </tr>\n",
       "    <tr>\n",
       "      <th>40</th>\n",
       "      <td>{'model': LogisticRegression(C=26.366508987303...</td>\n",
       "      <td>0.758333</td>\n",
       "      <td>1</td>\n",
       "    </tr>\n",
       "    <tr>\n",
       "      <th>48</th>\n",
       "      <td>{'model': LogisticRegression(C=26.366508987303...</td>\n",
       "      <td>0.758333</td>\n",
       "      <td>1</td>\n",
       "    </tr>\n",
       "    <tr>\n",
       "      <th>38</th>\n",
       "      <td>{'model': LogisticRegression(C=26.366508987303...</td>\n",
       "      <td>0.758333</td>\n",
       "      <td>1</td>\n",
       "    </tr>\n",
       "    <tr>\n",
       "      <th>34</th>\n",
       "      <td>{'model': LogisticRegression(C=26.366508987303...</td>\n",
       "      <td>0.758333</td>\n",
       "      <td>1</td>\n",
       "    </tr>\n",
       "  </tbody>\n",
       "</table>\n",
       "</div>"
      ],
      "text/plain": [
       "                                               params  mean_test_score  \\\n",
       "28  {'model': LogisticRegression(C=26.366508987303...         0.758333   \n",
       "30  {'model': LogisticRegression(C=26.366508987303...         0.758333   \n",
       "46  {'model': LogisticRegression(C=26.366508987303...         0.758333   \n",
       "44  {'model': LogisticRegression(C=26.366508987303...         0.758333   \n",
       "42  {'model': LogisticRegression(C=26.366508987303...         0.758333   \n",
       "32  {'model': LogisticRegression(C=26.366508987303...         0.758333   \n",
       "40  {'model': LogisticRegression(C=26.366508987303...         0.758333   \n",
       "48  {'model': LogisticRegression(C=26.366508987303...         0.758333   \n",
       "38  {'model': LogisticRegression(C=26.366508987303...         0.758333   \n",
       "34  {'model': LogisticRegression(C=26.366508987303...         0.758333   \n",
       "\n",
       "    rank_test_score  \n",
       "28                1  \n",
       "30                1  \n",
       "46                1  \n",
       "44                1  \n",
       "42                1  \n",
       "32                1  \n",
       "40                1  \n",
       "48                1  \n",
       "38                1  \n",
       "34                1  "
      ]
     },
     "execution_count": 23,
     "metadata": {},
     "output_type": "execute_result"
    }
   ],
   "source": [
    "gs = pd.DataFrame(gridsearch.cv_results_)\n",
    "ranking = gs[['params', 'mean_test_score', 'rank_test_score']].sort_values(by='rank_test_score', ascending=True).head(10)\n",
    "ranking"
   ]
  },
  {
   "cell_type": "code",
   "execution_count": 24,
   "metadata": {},
   "outputs": [
    {
     "name": "stdout",
     "output_type": "stream",
     "text": [
      "{'model': LogisticRegression(C=26.366508987303583, max_iter=1000), 'model__C': 26.366508987303583, 'model__max_iter': 1000, 'model__penalty': 'l2'}\n",
      "{'model': LogisticRegression(C=26.366508987303583, max_iter=1000), 'model__C': 37.926901907322495, 'model__max_iter': 1000, 'model__penalty': 'l2'}\n",
      "{'model': LogisticRegression(C=26.366508987303583, max_iter=1000), 'model__C': 695.1927961775606, 'model__max_iter': 1000, 'model__penalty': 'l2'}\n",
      "{'model': LogisticRegression(C=26.366508987303583, max_iter=1000), 'model__C': 483.2930238571752, 'model__max_iter': 1000, 'model__penalty': 'l2'}\n",
      "{'model': LogisticRegression(C=26.366508987303583, max_iter=1000), 'model__C': 335.9818286283781, 'model__max_iter': 1000, 'model__penalty': 'l2'}\n",
      "{'model': LogisticRegression(C=26.366508987303583, max_iter=1000), 'model__C': 54.55594781168517, 'model__max_iter': 1000, 'model__penalty': 'l2'}\n",
      "{'model': LogisticRegression(C=26.366508987303583, max_iter=1000), 'model__C': 233.57214690901213, 'model__max_iter': 1000, 'model__penalty': 'l2'}\n",
      "{'model': LogisticRegression(C=26.366508987303583, max_iter=1000), 'model__C': 1000.0, 'model__max_iter': 1000, 'model__penalty': 'l2'}\n",
      "{'model': LogisticRegression(C=26.366508987303583, max_iter=1000), 'model__C': 162.3776739188721, 'model__max_iter': 1000, 'model__penalty': 'l2'}\n",
      "{'model': LogisticRegression(C=26.366508987303583, max_iter=1000), 'model__C': 78.47599703514611, 'model__max_iter': 1000, 'model__penalty': 'l2'}\n"
     ]
    }
   ],
   "source": [
    "for rank in ranking['params']:\n",
    "    print(rank)"
   ]
  },
  {
   "cell_type": "markdown",
   "metadata": {},
   "source": [
    "Informazioni sui parametri del miglior modello trovato, e sull'importanza delle feature per la classificazione"
   ]
  },
  {
   "cell_type": "code",
   "execution_count": 25,
   "metadata": {},
   "outputs": [
    {
     "name": "stdout",
     "output_type": "stream",
     "text": [
      "LogisticRegression(C=26.366508987303583, max_iter=1000)\n"
     ]
    },
    {
     "data": {
      "text/plain": [
       "{'C': 26.366508987303583,\n",
       " 'class_weight': None,\n",
       " 'dual': False,\n",
       " 'fit_intercept': True,\n",
       " 'intercept_scaling': 1,\n",
       " 'l1_ratio': None,\n",
       " 'max_iter': 1000,\n",
       " 'multi_class': 'auto',\n",
       " 'n_jobs': None,\n",
       " 'penalty': 'l2',\n",
       " 'random_state': None,\n",
       " 'solver': 'lbfgs',\n",
       " 'tol': 0.0001,\n",
       " 'verbose': 0,\n",
       " 'warm_start': False}"
      ]
     },
     "execution_count": 25,
     "metadata": {},
     "output_type": "execute_result"
    }
   ],
   "source": [
    "best_grid_model = gridsearch.best_estimator_['model']\n",
    "\n",
    "print(best_grid_model)\n",
    "best_grid_model.get_params()"
   ]
  },
  {
   "cell_type": "markdown",
   "metadata": {},
   "source": [
    "Se il modello scelto è un DecisionTree vengono visualizzate le feature da esso utilizzato. In alcuni casi anche la nuova feature 'risk_factor' è stata usata"
   ]
  },
  {
   "cell_type": "code",
   "execution_count": 26,
   "metadata": {},
   "outputs": [],
   "source": [
    "if(type(best_grid_model).__name__ in ('DecisionTreeClassifier', 'RandomForestClassifier')):\n",
    "    sns.set_style(\"whitegrid\")\n",
    "\n",
    "    fig, axes = plt.subplots(nrows = 1, ncols = 1, sharex=\"all\", figsize=(8,6))\n",
    "\n",
    "    indices = np.argsort(best_grid_model.feature_importances_)[::-1][:40]\n",
    "    g = sns.barplot(y=X_train.columns[indices][:40],x = best_grid_model.feature_importances_[indices][:40] , orient='h')\n",
    "    g.set_xlabel(\"Relative importance\",fontsize=12)\n",
    "    g.set_ylabel(\"Features\",fontsize=12)\n",
    "    g.tick_params(labelsize=9)\n",
    "    g.set_title(type(best_grid_model).__name__ + \" feature importance\")"
   ]
  },
  {
   "cell_type": "code",
   "execution_count": 27,
   "metadata": {},
   "outputs": [],
   "source": [
    "if(type(best_grid_model).__name__ == 'DecisionTreeClassifier' ):\n",
    "    fig = plt.figure(figsize=(15,10))\n",
    "    _ = tree.plot_tree(best_grid_model, \n",
    "                   feature_names=X_train.columns,  \n",
    "                   class_names=y_train.name,\n",
    "                   filled=True)"
   ]
  },
  {
   "cell_type": "markdown",
   "metadata": {},
   "source": [
    "## Confusion Matrix\n",
    "\n",
    "I valori sulle righe sono i true value, le colonne della matrice quelli predetti. Non ci sono situazioni in cui il classificatore risponde in modo anomalo (ad esempio sempre nello stesso modo)."
   ]
  },
  {
   "cell_type": "code",
   "execution_count": 28,
   "metadata": {},
   "outputs": [
    {
     "data": {
      "image/png": "[encoded data removed]",
      "text/plain": [
       "<Figure size 432x288 with 2 Axes>"
      ]
     },
     "metadata": {
      "needs_background": "light"
     },
     "output_type": "display_data"
    }
   ],
   "source": [
    "plot_confusion_matrix(gridsearch.best_estimator_[1], X_test, y_test) #normalize='true'\n",
    "plt.grid(False)\n",
    "plt.show()"
   ]
  },
  {
   "cell_type": "markdown",
   "metadata": {},
   "source": [
    "## Risultato di Accuracy del miglior modello scelto"
   ]
  },
  {
   "cell_type": "markdown",
   "metadata": {},
   "source": [
    "Il valore di Test Accuracy qui mostrato è relativo a un solo predict del modello scelto come migliore tra tutti. La accuracy è molto sensibile dato che ci sono poche osservazioni nel dataset, e i suoi valori più realistici sono nella tabella della GridSearchCV mostrati precedentemente in \"mean_test_score\".\n",
    "\n",
    "In alcune istanze di esecuzione la accuracy di testing supera quella di training (cosa solitamente rara), per via dei pochi dati di training che non rendono affidabile la singola percentuale di un predict.\n",
    "\n",
    "A seconda dell'istanza di esecuzione e dello split train/test a monte potrebbe essere scelto un DecisionTreeClassifier o un modello LogisticRegression (entrambi con alcuni parametri ottimizzati dalla GridSearchCV)."
   ]
  },
  {
   "cell_type": "code",
   "execution_count": 29,
   "metadata": {},
   "outputs": [
    {
     "name": "stdout",
     "output_type": "stream",
     "text": [
      "LogisticRegression(C=26.366508987303583, max_iter=1000)\n",
      "Training Accuracy:  76.96335078534031 %\n",
      "Testing Accuracy:  83.33333333333334 %\n"
     ]
    }
   ],
   "source": [
    "best_grid_model = gridsearch.best_estimator_['model']\n",
    "print(best_grid_model)\n",
    "print('Training Accuracy: ', best_grid_model.score(X_train, y_train) * 100, '%')\n",
    "print('Testing Accuracy: ', best_grid_model.score(X_test, y_test) * 100, '%')"
   ]
  },
  {
   "cell_type": "code",
   "execution_count": null,
   "metadata": {},
   "outputs": [],
   "source": []
  }
 ],
 "metadata": {
  "kernelspec": {
   "display_name": "Python 3",
   "language": "python",
   "name": "python3"
  },
  "language_info": {
   "codemirror_mode": {
    "name": "ipython",
    "version": 3
   },
   "file_extension": ".py",
   "mimetype": "text/x-python",
   "name": "python",
   "nbconvert_exporter": "python",
   "pygments_lexer": "ipython3",
   "version": "3.7.0"
  }
 },
 "nbformat": 4,
 "nbformat_minor": 4
}
