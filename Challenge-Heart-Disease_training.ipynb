{
 "cells": [
  {
   "cell_type": "code",
   "execution_count": 1,
   "metadata": {},
   "outputs": [
    {
     "name": "stdout",
     "output_type": "stream",
     "text": [
      "Requirement already satisfied: seaborn==0.10.1 in c:\\python3\\lib\\site-packages (from -r requirements.txt (line 1)) (0.10.1)\n",
      "Requirement already satisfied: pydotplus==2.0.2 in c:\\python3\\lib\\site-packages (from -r requirements.txt (line 2)) (2.0.2)\n",
      "Requirement already satisfied: scipy==1.4.1 in c:\\python3\\lib\\site-packages (from -r requirements.txt (line 3)) (1.4.1)\n",
      "Requirement already satisfied: numpy==1.15.0 in c:\\python3\\lib\\site-packages (from -r requirements.txt (line 4)) (1.15.0)\n",
      "Requirement already satisfied: matplotlib==3.2.1 in c:\\python3\\lib\\site-packages (from -r requirements.txt (line 5)) (3.2.1)\n",
      "Requirement already satisfied: pandas==1.0.3 in c:\\python3\\lib\\site-packages (from -r requirements.txt (line 6)) (1.0.3)\n",
      "Requirement already satisfied: ipython==7.15.0 in c:\\python3\\lib\\site-packages (from -r requirements.txt (line 7)) (7.15.0)\n",
      "Requirement already satisfied: scikit_learn==0.23.1 in c:\\python3\\lib\\site-packages (from -r requirements.txt (line 8)) (0.23.1)\n",
      "Requirement already satisfied: pyparsing>=2.0.1 in c:\\python3\\lib\\site-packages (from pydotplus==2.0.2->-r requirements.txt (line 2)) (2.4.7)\n",
      "Requirement already satisfied: python-dateutil>=2.1 in c:\\python3\\lib\\site-packages (from matplotlib==3.2.1->-r requirements.txt (line 5)) (2.7.3)\n",
      "Requirement already satisfied: cycler>=0.10 in c:\\python3\\lib\\site-packages (from matplotlib==3.2.1->-r requirements.txt (line 5)) (0.10.0)\n",
      "Requirement already satisfied: kiwisolver>=1.0.1 in c:\\python3\\lib\\site-packages (from matplotlib==3.2.1->-r requirements.txt (line 5)) (1.2.0)\n",
      "Requirement already satisfied: pytz>=2017.2 in c:\\python3\\lib\\site-packages (from pandas==1.0.3->-r requirements.txt (line 6)) (2018.5)\n",
      "Requirement already satisfied: pickleshare in c:\\python3\\lib\\site-packages (from ipython==7.15.0->-r requirements.txt (line 7)) (0.7.5)\n",
      "Requirement already satisfied: pygments in c:\\python3\\lib\\site-packages (from ipython==7.15.0->-r requirements.txt (line 7)) (2.3.0)\n",
      "Requirement already satisfied: colorama; sys_platform == \"win32\" in c:\\python3\\lib\\site-packages (from ipython==7.15.0->-r requirements.txt (line 7)) (0.4.1)\n",
      "Requirement already satisfied: decorator in c:\\python3\\lib\\site-packages (from ipython==7.15.0->-r requirements.txt (line 7)) (4.4.2)\n",
      "Requirement already satisfied: backcall in c:\\python3\\lib\\site-packages (from ipython==7.15.0->-r requirements.txt (line 7)) (0.1.0)\n",
      "Requirement already satisfied: setuptools>=18.5 in c:\\python3\\lib\\site-packages (from ipython==7.15.0->-r requirements.txt (line 7)) (39.0.1)\n",
      "Requirement already satisfied: jedi>=0.10 in c:\\python3\\lib\\site-packages (from ipython==7.15.0->-r requirements.txt (line 7)) (0.16.0)\n",
      "Requirement already satisfied: prompt-toolkit!=3.0.0,!=3.0.1,<3.1.0,>=2.0.0 in c:\\python3\\lib\\site-packages (from ipython==7.15.0->-r requirements.txt (line 7)) (3.0.5)\n",
      "Requirement already satisfied: traitlets>=4.2 in c:\\python3\\lib\\site-packages (from ipython==7.15.0->-r requirements.txt (line 7)) (4.3.3)\n",
      "Requirement already satisfied: joblib>=0.11 in c:\\python3\\lib\\site-packages (from scikit_learn==0.23.1->-r requirements.txt (line 8)) (0.15.1)\n",
      "Requirement already satisfied: threadpoolctl>=2.0.0 in c:\\python3\\lib\\site-packages (from scikit_learn==0.23.1->-r requirements.txt (line 8)) (2.1.0)\n",
      "Requirement already satisfied: six>=1.5 in c:\\python3\\lib\\site-packages (from python-dateutil>=2.1->matplotlib==3.2.1->-r requirements.txt (line 5)) (1.11.0)\n",
      "Requirement already satisfied: parso>=0.5.2 in c:\\python3\\lib\\site-packages (from jedi>=0.10->ipython==7.15.0->-r requirements.txt (line 7)) (0.6.2)\n",
      "Requirement already satisfied: wcwidth in c:\\python3\\lib\\site-packages (from prompt-toolkit!=3.0.0,!=3.0.1,<3.1.0,>=2.0.0->ipython==7.15.0->-r requirements.txt (line 7)) (0.1.9)\n",
      "Requirement already satisfied: ipython-genutils in c:\\python3\\lib\\site-packages (from traitlets>=4.2->ipython==7.15.0->-r requirements.txt (line 7)) (0.2.0)\n"
     ]
    }
   ],
   "source": [
    "!pip install -r requirements.txt"
   ]
  },
  {
   "cell_type": "code",
   "execution_count": 2,
   "metadata": {},
   "outputs": [],
   "source": [
    "import pandas as pd\n",
    "import numpy as np\n",
    "\n",
    "import seaborn as sns\n",
    "%matplotlib inline\n",
    "import matplotlib.pyplot as plt"
   ]
  },
  {
   "cell_type": "code",
   "execution_count": 3,
   "metadata": {},
   "outputs": [],
   "source": [
    "train_data = pd.read_csv('train.csv')\n",
    "test_data = pd.read_csv('test.csv')"
   ]
  },
  {
   "cell_type": "code",
   "execution_count": 4,
   "metadata": {},
   "outputs": [
    {
     "name": "stdout",
     "output_type": "stream",
     "text": [
      "(191, 13)\n",
      "(48, 13)\n"
     ]
    }
   ],
   "source": [
    "print(train_data.shape)\n",
    "print(test_data.shape)"
   ]
  },
  {
   "cell_type": "markdown",
   "metadata": {},
   "source": [
    "# Preprocessing"
   ]
  },
  {
   "cell_type": "markdown",
   "metadata": {},
   "source": [
    "## Drop delle colonne ritenute superflue, separazione train/test in X, y"
   ]
  },
  {
   "cell_type": "markdown",
   "metadata": {},
   "source": [
    "Vedere la fine del notebook di preparazione per le motivazioni del drop di time"
   ]
  },
  {
   "cell_type": "code",
   "execution_count": 5,
   "metadata": {},
   "outputs": [],
   "source": [
    "X_train = train_data.drop(columns=['DEATH_EVENT', 'time'])\n",
    "y_train = train_data['DEATH_EVENT']\n",
    "\n",
    "X_test = test_data.drop(columns=['DEATH_EVENT', 'time'])\n",
    "y_test = test_data['DEATH_EVENT']"
   ]
  },
  {
   "cell_type": "markdown",
   "metadata": {},
   "source": [
    "Il dataset ha solo colonne int64 o float64, qualsiasi valore sporco viene convertito in NaN e poi dato in pasto al SimpleImputer nella Pipeline per sostituirlo con un valore numerico."
   ]
  },
  {
   "cell_type": "code",
   "execution_count": 6,
   "metadata": {},
   "outputs": [],
   "source": [
    "X_train = X_train.apply(pd.to_numeric, errors = 'coerce')\n",
    "X_test = X_test.apply(pd.to_numeric, errors = 'coerce')"
   ]
  },
  {
   "cell_type": "code",
   "execution_count": 7,
   "metadata": {},
   "outputs": [
    {
     "data": {
      "text/plain": [
       "age                         2\n",
       "anaemia                     1\n",
       "creatinine_phosphokinase    2\n",
       "diabetes                    1\n",
       "ejection_fraction           0\n",
       "high_blood_pressure         0\n",
       "platelets                   0\n",
       "serum_creatinine            1\n",
       "serum_sodium                0\n",
       "sex                         1\n",
       "smoking                     0\n",
       "dtype: int64"
      ]
     },
     "execution_count": 7,
     "metadata": {},
     "output_type": "execute_result"
    }
   ],
   "source": [
    "X_train.isna().sum()"
   ]
  },
  {
   "cell_type": "markdown",
   "metadata": {},
   "source": [
    "### Pulizia di tutti i valori np.NaN"
   ]
  },
  {
   "cell_type": "code",
   "execution_count": 8,
   "metadata": {},
   "outputs": [],
   "source": [
    "X_train = X_train.fillna(X_train.mean().round())\n",
    "X_test = X_test.fillna(X_test.mean().round())"
   ]
  },
  {
   "cell_type": "code",
   "execution_count": 9,
   "metadata": {},
   "outputs": [
    {
     "data": {
      "text/plain": [
       "age                         0\n",
       "anaemia                     0\n",
       "creatinine_phosphokinase    0\n",
       "diabetes                    0\n",
       "ejection_fraction           0\n",
       "high_blood_pressure         0\n",
       "platelets                   0\n",
       "serum_creatinine            0\n",
       "serum_sodium                0\n",
       "sex                         0\n",
       "smoking                     0\n",
       "dtype: int64"
      ]
     },
     "execution_count": 9,
     "metadata": {},
     "output_type": "execute_result"
    }
   ],
   "source": [
    "X_train.isna().sum()"
   ]
  },
  {
   "cell_type": "markdown",
   "metadata": {},
   "source": [
    "### Conversione in colonne intere e scaling di alcune feature"
   ]
  },
  {
   "cell_type": "markdown",
   "metadata": {},
   "source": [
    "platelets e serum_creatinine hanno valori min/max in range grandi o piccoli, li normalizziamo"
   ]
  },
  {
   "cell_type": "code",
   "execution_count": 10,
   "metadata": {},
   "outputs": [
    {
     "data": {
      "text/plain": [
       "count       191.000000\n",
       "mean     267391.636492\n",
       "std       97054.317932\n",
       "min       47000.000000\n",
       "25%      215500.000000\n",
       "50%      263358.030000\n",
       "75%      305000.000000\n",
       "max      742000.000000\n",
       "Name: platelets, dtype: float64"
      ]
     },
     "execution_count": 10,
     "metadata": {},
     "output_type": "execute_result"
    }
   ],
   "source": [
    "X_train.platelets.describe()"
   ]
  },
  {
   "cell_type": "code",
   "execution_count": 11,
   "metadata": {},
   "outputs": [
    {
     "data": {
      "text/plain": [
       "count    191.000000\n",
       "mean       1.399372\n",
       "std        1.025471\n",
       "min        0.500000\n",
       "25%        0.900000\n",
       "50%        1.100000\n",
       "75%        1.400000\n",
       "max        9.000000\n",
       "Name: serum_creatinine, dtype: float64"
      ]
     },
     "execution_count": 11,
     "metadata": {},
     "output_type": "execute_result"
    }
   ],
   "source": [
    "X_train.serum_creatinine.describe()"
   ]
  },
  {
   "cell_type": "code",
   "execution_count": 12,
   "metadata": {},
   "outputs": [],
   "source": [
    "X_train.platelets = X_train.platelets / 10**3\n",
    "X_train.serum_creatinine = X_train.serum_creatinine * 10**2\n",
    "\n",
    "X_test.platelets = X_test.platelets / 10**3\n",
    "X_test.serum_creatinine = X_test.serum_creatinine * 10**2"
   ]
  },
  {
   "cell_type": "code",
   "execution_count": 13,
   "metadata": {},
   "outputs": [],
   "source": [
    "X_train = X_train.round().astype(np.int64)\n",
    "X_test = X_test.round().astype(np.int64)"
   ]
  },
  {
   "cell_type": "code",
   "execution_count": 14,
   "metadata": {},
   "outputs": [
    {
     "data": {
      "text/html": [
       "<div>\n",
       "<style scoped>\n",
       "    .dataframe tbody tr th:only-of-type {\n",
       "        vertical-align: middle;\n",
       "    }\n",
       "\n",
       "    .dataframe tbody tr th {\n",
       "        vertical-align: top;\n",
       "    }\n",
       "\n",
       "    .dataframe thead th {\n",
       "        text-align: right;\n",
       "    }\n",
       "</style>\n",
       "<table border=\"1\" class=\"dataframe\">\n",
       "  <thead>\n",
       "    <tr style=\"text-align: right;\">\n",
       "      <th></th>\n",
       "      <th>age</th>\n",
       "      <th>anaemia</th>\n",
       "      <th>creatinine_phosphokinase</th>\n",
       "      <th>diabetes</th>\n",
       "      <th>ejection_fraction</th>\n",
       "      <th>high_blood_pressure</th>\n",
       "      <th>platelets</th>\n",
       "      <th>serum_creatinine</th>\n",
       "      <th>serum_sodium</th>\n",
       "      <th>sex</th>\n",
       "      <th>smoking</th>\n",
       "    </tr>\n",
       "  </thead>\n",
       "  <tbody>\n",
       "    <tr>\n",
       "      <th>0</th>\n",
       "      <td>45</td>\n",
       "      <td>0</td>\n",
       "      <td>2060</td>\n",
       "      <td>1</td>\n",
       "      <td>60</td>\n",
       "      <td>0</td>\n",
       "      <td>742</td>\n",
       "      <td>80</td>\n",
       "      <td>138</td>\n",
       "      <td>0</td>\n",
       "      <td>0</td>\n",
       "    </tr>\n",
       "    <tr>\n",
       "      <th>1</th>\n",
       "      <td>65</td>\n",
       "      <td>1</td>\n",
       "      <td>258</td>\n",
       "      <td>1</td>\n",
       "      <td>25</td>\n",
       "      <td>0</td>\n",
       "      <td>198</td>\n",
       "      <td>140</td>\n",
       "      <td>129</td>\n",
       "      <td>1</td>\n",
       "      <td>0</td>\n",
       "    </tr>\n",
       "    <tr>\n",
       "      <th>2</th>\n",
       "      <td>59</td>\n",
       "      <td>1</td>\n",
       "      <td>176</td>\n",
       "      <td>1</td>\n",
       "      <td>25</td>\n",
       "      <td>0</td>\n",
       "      <td>221</td>\n",
       "      <td>100</td>\n",
       "      <td>136</td>\n",
       "      <td>1</td>\n",
       "      <td>1</td>\n",
       "    </tr>\n",
       "    <tr>\n",
       "      <th>3</th>\n",
       "      <td>60</td>\n",
       "      <td>1</td>\n",
       "      <td>95</td>\n",
       "      <td>0</td>\n",
       "      <td>60</td>\n",
       "      <td>0</td>\n",
       "      <td>337</td>\n",
       "      <td>100</td>\n",
       "      <td>138</td>\n",
       "      <td>1</td>\n",
       "      <td>1</td>\n",
       "    </tr>\n",
       "    <tr>\n",
       "      <th>4</th>\n",
       "      <td>69</td>\n",
       "      <td>0</td>\n",
       "      <td>582</td>\n",
       "      <td>1</td>\n",
       "      <td>35</td>\n",
       "      <td>0</td>\n",
       "      <td>228</td>\n",
       "      <td>350</td>\n",
       "      <td>134</td>\n",
       "      <td>1</td>\n",
       "      <td>0</td>\n",
       "    </tr>\n",
       "  </tbody>\n",
       "</table>\n",
       "</div>"
      ],
      "text/plain": [
       "   age  anaemia  creatinine_phosphokinase  diabetes  ejection_fraction  \\\n",
       "0   45        0                      2060         1                 60   \n",
       "1   65        1                       258         1                 25   \n",
       "2   59        1                       176         1                 25   \n",
       "3   60        1                        95         0                 60   \n",
       "4   69        0                       582         1                 35   \n",
       "\n",
       "   high_blood_pressure  platelets  serum_creatinine  serum_sodium  sex  \\\n",
       "0                    0        742                80           138    0   \n",
       "1                    0        198               140           129    1   \n",
       "2                    0        221               100           136    1   \n",
       "3                    0        337               100           138    1   \n",
       "4                    0        228               350           134    1   \n",
       "\n",
       "   smoking  \n",
       "0        0  \n",
       "1        0  \n",
       "2        1  \n",
       "3        1  \n",
       "4        0  "
      ]
     },
     "execution_count": 14,
     "metadata": {},
     "output_type": "execute_result"
    }
   ],
   "source": [
    "X_train.head()"
   ]
  },
  {
   "cell_type": "markdown",
   "metadata": {},
   "source": [
    "### Feature che considera tutti i fattori di rischio (booleani) insieme (risk_factor)"
   ]
  },
  {
   "cell_type": "code",
   "execution_count": 15,
   "metadata": {},
   "outputs": [],
   "source": [
    "boolean_features = ['anaemia', 'diabetes', 'high_blood_pressure', 'smoking']"
   ]
  },
  {
   "cell_type": "code",
   "execution_count": 16,
   "metadata": {},
   "outputs": [],
   "source": [
    "X_train[boolean_features].sum(axis=1)\n",
    "X_train['risk_factor'] = X_train[boolean_features].sum(axis=1)\n",
    "X_train = X_train.drop(columns=boolean_features)\n",
    "\n",
    "X_test[boolean_features].sum(axis=1)\n",
    "X_test['risk_factor'] = X_test[boolean_features].sum(axis=1)\n",
    "X_test = X_test.drop(columns=boolean_features)"
   ]
  },
  {
   "cell_type": "code",
   "execution_count": 17,
   "metadata": {},
   "outputs": [
    {
     "data": {
      "text/html": [
       "<div>\n",
       "<style scoped>\n",
       "    .dataframe tbody tr th:only-of-type {\n",
       "        vertical-align: middle;\n",
       "    }\n",
       "\n",
       "    .dataframe tbody tr th {\n",
       "        vertical-align: top;\n",
       "    }\n",
       "\n",
       "    .dataframe thead th {\n",
       "        text-align: right;\n",
       "    }\n",
       "</style>\n",
       "<table border=\"1\" class=\"dataframe\">\n",
       "  <thead>\n",
       "    <tr style=\"text-align: right;\">\n",
       "      <th></th>\n",
       "      <th>age</th>\n",
       "      <th>creatinine_phosphokinase</th>\n",
       "      <th>ejection_fraction</th>\n",
       "      <th>platelets</th>\n",
       "      <th>serum_creatinine</th>\n",
       "      <th>serum_sodium</th>\n",
       "      <th>sex</th>\n",
       "      <th>risk_factor</th>\n",
       "    </tr>\n",
       "  </thead>\n",
       "  <tbody>\n",
       "    <tr>\n",
       "      <th>0</th>\n",
       "      <td>45</td>\n",
       "      <td>2060</td>\n",
       "      <td>60</td>\n",
       "      <td>742</td>\n",
       "      <td>80</td>\n",
       "      <td>138</td>\n",
       "      <td>0</td>\n",
       "      <td>1</td>\n",
       "    </tr>\n",
       "    <tr>\n",
       "      <th>1</th>\n",
       "      <td>65</td>\n",
       "      <td>258</td>\n",
       "      <td>25</td>\n",
       "      <td>198</td>\n",
       "      <td>140</td>\n",
       "      <td>129</td>\n",
       "      <td>1</td>\n",
       "      <td>2</td>\n",
       "    </tr>\n",
       "    <tr>\n",
       "      <th>2</th>\n",
       "      <td>59</td>\n",
       "      <td>176</td>\n",
       "      <td>25</td>\n",
       "      <td>221</td>\n",
       "      <td>100</td>\n",
       "      <td>136</td>\n",
       "      <td>1</td>\n",
       "      <td>3</td>\n",
       "    </tr>\n",
       "    <tr>\n",
       "      <th>3</th>\n",
       "      <td>60</td>\n",
       "      <td>95</td>\n",
       "      <td>60</td>\n",
       "      <td>337</td>\n",
       "      <td>100</td>\n",
       "      <td>138</td>\n",
       "      <td>1</td>\n",
       "      <td>2</td>\n",
       "    </tr>\n",
       "    <tr>\n",
       "      <th>4</th>\n",
       "      <td>69</td>\n",
       "      <td>582</td>\n",
       "      <td>35</td>\n",
       "      <td>228</td>\n",
       "      <td>350</td>\n",
       "      <td>134</td>\n",
       "      <td>1</td>\n",
       "      <td>1</td>\n",
       "    </tr>\n",
       "  </tbody>\n",
       "</table>\n",
       "</div>"
      ],
      "text/plain": [
       "   age  creatinine_phosphokinase  ejection_fraction  platelets  \\\n",
       "0   45                      2060                 60        742   \n",
       "1   65                       258                 25        198   \n",
       "2   59                       176                 25        221   \n",
       "3   60                        95                 60        337   \n",
       "4   69                       582                 35        228   \n",
       "\n",
       "   serum_creatinine  serum_sodium  sex  risk_factor  \n",
       "0                80           138    0            1  \n",
       "1               140           129    1            2  \n",
       "2               100           136    1            3  \n",
       "3               100           138    1            2  \n",
       "4               350           134    1            1  "
      ]
     },
     "execution_count": 17,
     "metadata": {},
     "output_type": "execute_result"
    }
   ],
   "source": [
    "X_train.head()"
   ]
  },
  {
   "cell_type": "code",
   "execution_count": 18,
   "metadata": {},
   "outputs": [
    {
     "data": {
      "text/plain": [
       "age                         int64\n",
       "creatinine_phosphokinase    int64\n",
       "ejection_fraction           int64\n",
       "platelets                   int64\n",
       "serum_creatinine            int64\n",
       "serum_sodium                int64\n",
       "sex                         int64\n",
       "risk_factor                 int64\n",
       "dtype: object"
      ]
     },
     "execution_count": 18,
     "metadata": {},
     "output_type": "execute_result"
    }
   ],
   "source": [
    "X_train.dtypes"
   ]
  },
  {
   "cell_type": "markdown",
   "metadata": {},
   "source": [
    "# Scelta dei modelli, training e fit"
   ]
  },
  {
   "cell_type": "code",
   "execution_count": 19,
   "metadata": {},
   "outputs": [],
   "source": [
    "from sklearn.tree import DecisionTreeClassifier\n",
    "from sklearn import tree\n",
    "from sklearn.linear_model import LogisticRegression\n",
    "from sklearn.ensemble import RandomForestClassifier\n",
    "from sklearn.neighbors import KNeighborsClassifier\n",
    "from sklearn.preprocessing import OneHotEncoder\n",
    "from sklearn.impute import SimpleImputer\n",
    "from sklearn.metrics import confusion_matrix\n",
    "from sklearn.metrics import plot_confusion_matrix"
   ]
  },
  {
   "cell_type": "markdown",
   "metadata": {},
   "source": [
    "### Pipeline\n",
    "\n",
    "La Pipeline è utile per concatenare diverse operazioni di trasformazione (tra cui imputation, scaling e altro) facendo fit_transform su training set e transform su test set. Per ultimo l'utilizzo di un modello per fare il fit sui dati di training e il predict sui dati di test.\n",
    "\n",
    "GridSearchCV prenderà come parametri la Pipeline (su cui fare fit_transform/transform a seconda dei dati di train/test) e il numero di k-fold da effettuare nella Cross Validation."
   ]
  },
  {
   "cell_type": "code",
   "execution_count": 20,
   "metadata": {},
   "outputs": [],
   "source": [
    "from sklearn.pipeline import Pipeline\n",
    "pipe = Pipeline([\n",
    "        ('imputer', SimpleImputer(strategy='median')),\n",
    "        ('model', DecisionTreeClassifier())\n",
    "        ])"
   ]
  },
  {
   "cell_type": "markdown",
   "metadata": {},
   "source": [
    "Il tuning dei parametri risulta fondamentale per evitare overfitting, in particolare per il DecisionTreeClassifier che con depth > 7 presenta questo problema in modo significativo (anche per depth = 1 c'erano problemi per la selezione di una sola feature nel decision stump). \n",
    "\n",
    "Valori di profondità alti per un DecisionTree corrispondono ad un'alta complessità del modello, che è da evitare. Così come i pesi nella LogisticRegression vengono limitati dalla penalty L1 o L2. \n",
    "\n",
    "Il dataset ha pochi elementi, si deve evitare under/overfitting mantenendo la complessità del modello ad un livello intermedio."
   ]
  },
  {
   "cell_type": "code",
   "execution_count": 21,
   "metadata": {},
   "outputs": [],
   "source": [
    "params = [\n",
    "            {'model': [DecisionTreeClassifier()],\n",
    "            #'model__criterion': ['gini', 'entropy'],\n",
    "            #'model__splitter': ['best', 'random'],\n",
    "            #'model__min_samples_split': [1, 2, 3],\n",
    "            #'model__min_samples_leaf': [1, 2, 3],\n",
    "            'model__max_features': ['auto', 'sqrt'],\n",
    "            'model__max_depth': np.arange(2,7)},\n",
    "            {'model': [LogisticRegression()],\n",
    "            'model__max_iter': [1000],\n",
    "            'model__penalty': ['l2', 'l1'],\n",
    "            'model__C': np.logspace(0, 3, 20)},\n",
    "            #{'model': [RandomForestClassifier()],\n",
    "            #'model__n_estimators': [10, 100],\n",
    "            #'model__max_features': ['auto', 'sqrt'],\n",
    "            #'model__min_samples_leaf': [1, 4],\n",
    "            #'model__min_samples_split': [2, 10],\n",
    "            #'model__max_depth': np.arange(1,8)},\n",
    "            #{'model': [KNeighborsClassifier()],\n",
    "            #'model__n_neighbors': np.arange(2,8),\n",
    "            #'model__leaf_size': list(range(10,30)),\n",
    "            #'model__p': [1, 2]}\n",
    "            ]"
   ]
  },
  {
   "cell_type": "markdown",
   "metadata": {},
   "source": [
    "### GridSearchCV\n",
    "\n",
    "La GridSearchCV è utile per stimare il modello coi migliori parametri, per ogni combinazione dei modelli e parametri forniti. Viene anche effettuata la Cross Validation (CV) per rendere più affidabile lo score calcolato (valori di k-fold ottimali sono k=5 e k=10, ed anche k=20 è stato testato con ottimi risultati). \n",
    "\n",
    "La Leave-One-Out con k=n_osservazioni non viene consigliata nella pratica, e non è neanche possibile utilizzarla nella GridSearchCV poiché essa usa una StratifiedKFold, che mantiene le proporzioni delle classi di target nel validation set, necessitando che ci sia almeno un rappresentante per ogni valore possibile.\n",
    "\n",
    "Si effettua quindi una ricerca nello spazio dei parametri dei classificatori indicati, facendo fit su tutte le possibili combinazioni specificate tramite la lista dizionari params. Infine sceglie il miglior modello e suoi migliori parametri da una tabella che calcola man mano (gridsearch.cv_results_) dove ci sono i ranking di tutte le possibili scelte effettuate.\n",
    "\n",
    "NOTA: Se il GridSearch con n_jobs=4 provoca problemi (freeze/computazione che non termina/altro) potrebbe dipendere dall'OS utilizzato. Per un funzionamento stabile usare n_jobs=1"
   ]
  },
  {
   "cell_type": "code",
   "execution_count": 22,
   "metadata": {},
   "outputs": [
    {
     "name": "stdout",
     "output_type": "stream",
     "text": [
      "Fitting 20 folds for each of 50 candidates, totalling 1000 fits\n"
     ]
    },
    {
     "name": "stderr",
     "output_type": "stream",
     "text": [
      "[Parallel(n_jobs=4)]: Using backend LokyBackend with 4 concurrent workers.\n",
      "[Parallel(n_jobs=4)]: Done  68 tasks      | elapsed:    2.8s\n",
      "[Parallel(n_jobs=4)]: Done 1000 out of 1000 | elapsed:   12.5s finished\n"
     ]
    }
   ],
   "source": [
    "from sklearn.model_selection import GridSearchCV\n",
    "gridsearch = GridSearchCV(pipe, params, cv=20, verbose=1, n_jobs=4).fit(X_train, y_train) #cv=5 o 10\n",
    "#print('Score migliore di test accuracy: ', gridsearch.score(X_test, y_test))"
   ]
  },
  {
   "cell_type": "markdown",
   "metadata": {},
   "source": [
    "Di seguito la classifica dei migliori modelli valutati dalla GridSearch, ordinati per media degli score calcolati durante la CV"
   ]
  },
  {
   "cell_type": "code",
   "execution_count": 23,
   "metadata": {},
   "outputs": [
    {
     "data": {
      "text/html": [
       "<div>\n",
       "<style scoped>\n",
       "    .dataframe tbody tr th:only-of-type {\n",
       "        vertical-align: middle;\n",
       "    }\n",
       "\n",
       "    .dataframe tbody tr th {\n",
       "        vertical-align: top;\n",
       "    }\n",
       "\n",
       "    .dataframe thead th {\n",
       "        text-align: right;\n",
       "    }\n",
       "</style>\n",
       "<table border=\"1\" class=\"dataframe\">\n",
       "  <thead>\n",
       "    <tr style=\"text-align: right;\">\n",
       "      <th></th>\n",
       "      <th>params</th>\n",
       "      <th>mean_test_score</th>\n",
       "      <th>rank_test_score</th>\n",
       "    </tr>\n",
       "  </thead>\n",
       "  <tbody>\n",
       "    <tr>\n",
       "      <th>6</th>\n",
       "      <td>{'model': DecisionTreeClassifier(max_depth=5, ...</td>\n",
       "      <td>0.770000</td>\n",
       "      <td>1</td>\n",
       "    </tr>\n",
       "    <tr>\n",
       "      <th>5</th>\n",
       "      <td>{'model': DecisionTreeClassifier(max_depth=5, ...</td>\n",
       "      <td>0.768889</td>\n",
       "      <td>2</td>\n",
       "    </tr>\n",
       "    <tr>\n",
       "      <th>9</th>\n",
       "      <td>{'model': DecisionTreeClassifier(max_depth=5, ...</td>\n",
       "      <td>0.765556</td>\n",
       "      <td>3</td>\n",
       "    </tr>\n",
       "    <tr>\n",
       "      <th>1</th>\n",
       "      <td>{'model': DecisionTreeClassifier(max_depth=5, ...</td>\n",
       "      <td>0.762222</td>\n",
       "      <td>4</td>\n",
       "    </tr>\n",
       "    <tr>\n",
       "      <th>18</th>\n",
       "      <td>{'model': LogisticRegression(), 'model__C': 4....</td>\n",
       "      <td>0.762222</td>\n",
       "      <td>4</td>\n",
       "    </tr>\n",
       "    <tr>\n",
       "      <th>10</th>\n",
       "      <td>{'model': LogisticRegression(), 'model__C': 1....</td>\n",
       "      <td>0.762222</td>\n",
       "      <td>4</td>\n",
       "    </tr>\n",
       "    <tr>\n",
       "      <th>16</th>\n",
       "      <td>{'model': LogisticRegression(), 'model__C': 2....</td>\n",
       "      <td>0.762222</td>\n",
       "      <td>4</td>\n",
       "    </tr>\n",
       "    <tr>\n",
       "      <th>12</th>\n",
       "      <td>{'model': LogisticRegression(), 'model__C': 1....</td>\n",
       "      <td>0.762222</td>\n",
       "      <td>4</td>\n",
       "    </tr>\n",
       "    <tr>\n",
       "      <th>14</th>\n",
       "      <td>{'model': LogisticRegression(), 'model__C': 2....</td>\n",
       "      <td>0.762222</td>\n",
       "      <td>4</td>\n",
       "    </tr>\n",
       "    <tr>\n",
       "      <th>24</th>\n",
       "      <td>{'model': LogisticRegression(), 'model__C': 12...</td>\n",
       "      <td>0.757222</td>\n",
       "      <td>10</td>\n",
       "    </tr>\n",
       "  </tbody>\n",
       "</table>\n",
       "</div>"
      ],
      "text/plain": [
       "                                               params  mean_test_score  \\\n",
       "6   {'model': DecisionTreeClassifier(max_depth=5, ...         0.770000   \n",
       "5   {'model': DecisionTreeClassifier(max_depth=5, ...         0.768889   \n",
       "9   {'model': DecisionTreeClassifier(max_depth=5, ...         0.765556   \n",
       "1   {'model': DecisionTreeClassifier(max_depth=5, ...         0.762222   \n",
       "18  {'model': LogisticRegression(), 'model__C': 4....         0.762222   \n",
       "10  {'model': LogisticRegression(), 'model__C': 1....         0.762222   \n",
       "16  {'model': LogisticRegression(), 'model__C': 2....         0.762222   \n",
       "12  {'model': LogisticRegression(), 'model__C': 1....         0.762222   \n",
       "14  {'model': LogisticRegression(), 'model__C': 2....         0.762222   \n",
       "24  {'model': LogisticRegression(), 'model__C': 12...         0.757222   \n",
       "\n",
       "    rank_test_score  \n",
       "6                 1  \n",
       "5                 2  \n",
       "9                 3  \n",
       "1                 4  \n",
       "18                4  \n",
       "10                4  \n",
       "16                4  \n",
       "12                4  \n",
       "14                4  \n",
       "24               10  "
      ]
     },
     "execution_count": 23,
     "metadata": {},
     "output_type": "execute_result"
    }
   ],
   "source": [
    "gs = pd.DataFrame(gridsearch.cv_results_)\n",
    "ranking = gs[['params', 'mean_test_score', 'rank_test_score']].sort_values(by='rank_test_score', ascending=True).head(10)\n",
    "ranking"
   ]
  },
  {
   "cell_type": "code",
   "execution_count": 24,
   "metadata": {},
   "outputs": [
    {
     "name": "stdout",
     "output_type": "stream",
     "text": [
      "{'model': DecisionTreeClassifier(max_depth=5, max_features='auto'), 'model__max_depth': 5, 'model__max_features': 'auto'}\n",
      "{'model': DecisionTreeClassifier(max_depth=5, max_features='auto'), 'model__max_depth': 4, 'model__max_features': 'sqrt'}\n",
      "{'model': DecisionTreeClassifier(max_depth=5, max_features='auto'), 'model__max_depth': 6, 'model__max_features': 'sqrt'}\n",
      "{'model': DecisionTreeClassifier(max_depth=5, max_features='auto'), 'model__max_depth': 2, 'model__max_features': 'sqrt'}\n",
      "{'model': LogisticRegression(), 'model__C': 4.281332398719393, 'model__max_iter': 1000, 'model__penalty': 'l2'}\n",
      "{'model': LogisticRegression(), 'model__C': 1.0, 'model__max_iter': 1000, 'model__penalty': 'l2'}\n",
      "{'model': LogisticRegression(), 'model__C': 2.976351441631318, 'model__max_iter': 1000, 'model__penalty': 'l2'}\n",
      "{'model': LogisticRegression(), 'model__C': 1.4384498882876628, 'model__max_iter': 1000, 'model__penalty': 'l2'}\n",
      "{'model': LogisticRegression(), 'model__C': 2.0691380811147897, 'model__max_iter': 1000, 'model__penalty': 'l2'}\n",
      "{'model': LogisticRegression(), 'model__C': 12.742749857031335, 'model__max_iter': 1000, 'model__penalty': 'l2'}\n"
     ]
    }
   ],
   "source": [
    "for rank in ranking['params']:\n",
    "    print(rank)"
   ]
  },
  {
   "cell_type": "markdown",
   "metadata": {},
   "source": [
    "Informazioni sui parametri del miglior modello trovato, e sull'importanza delle feature per la classificazione"
   ]
  },
  {
   "cell_type": "code",
   "execution_count": 25,
   "metadata": {},
   "outputs": [
    {
     "name": "stdout",
     "output_type": "stream",
     "text": [
      "DecisionTreeClassifier(max_depth=5, max_features='auto')\n"
     ]
    },
    {
     "data": {
      "text/plain": [
       "{'ccp_alpha': 0.0,\n",
       " 'class_weight': None,\n",
       " 'criterion': 'gini',\n",
       " 'max_depth': 5,\n",
       " 'max_features': 'auto',\n",
       " 'max_leaf_nodes': None,\n",
       " 'min_impurity_decrease': 0.0,\n",
       " 'min_impurity_split': None,\n",
       " 'min_samples_leaf': 1,\n",
       " 'min_samples_split': 2,\n",
       " 'min_weight_fraction_leaf': 0.0,\n",
       " 'presort': 'deprecated',\n",
       " 'random_state': None,\n",
       " 'splitter': 'best'}"
      ]
     },
     "execution_count": 25,
     "metadata": {},
     "output_type": "execute_result"
    }
   ],
   "source": [
    "best_grid_model = gridsearch.best_estimator_['model']\n",
    "\n",
    "print(best_grid_model)\n",
    "best_grid_model.get_params()"
   ]
  },
  {
   "cell_type": "markdown",
   "metadata": {},
   "source": [
    "Se il modello scelto è un DecisionTree vengono visualizzate le feature da esso utilizzato. In alcuni casi anche la nuova feature 'risk_factor' è stata usata"
   ]
  },
  {
   "cell_type": "code",
   "execution_count": 26,
   "metadata": {},
   "outputs": [
    {
     "data": {
      "image/png": "[encoded data removed]",
      "text/plain": [
       "<Figure size 576x432 with 1 Axes>"
      ]
     },
     "metadata": {},
     "output_type": "display_data"
    }
   ],
   "source": [
    "if(type(best_grid_model).__name__ in ('DecisionTreeClassifier', 'RandomForestClassifier')):\n",
    "    sns.set_style(\"whitegrid\")\n",
    "\n",
    "    fig, axes = plt.subplots(nrows = 1, ncols = 1, sharex=\"all\", figsize=(8,6))\n",
    "\n",
    "    indices = np.argsort(best_grid_model.feature_importances_)[::-1][:40]\n",
    "    g = sns.barplot(y=X_train.columns[indices][:40],x = best_grid_model.feature_importances_[indices][:40] , orient='h')\n",
    "    g.set_xlabel(\"Relative importance\",fontsize=12)\n",
    "    g.set_ylabel(\"Features\",fontsize=12)\n",
    "    g.tick_params(labelsize=9)\n",
    "    g.set_title(type(best_grid_model).__name__ + \" feature importance\")"
   ]
  },
  {
   "cell_type": "code",
   "execution_count": 27,
   "metadata": {},
   "outputs": [
    {
     "data": {
      "image/png": "[encoded data removed]",
      "text/plain": [
       "<Figure size 1080x720 with 1 Axes>"
      ]
     },
     "metadata": {},
     "output_type": "display_data"
    }
   ],
   "source": [
    "if(type(best_grid_model).__name__ == 'DecisionTreeClassifier' ):\n",
    "    fig = plt.figure(figsize=(15,10))\n",
    "    _ = tree.plot_tree(best_grid_model, \n",
    "                   feature_names=X_train.columns,  \n",
    "                   class_names=y_train.name,\n",
    "                   filled=True)"
   ]
  },
  {
   "cell_type": "markdown",
   "metadata": {},
   "source": [
    "## Confusion Matrix\n",
    "\n",
    "I valori sulle righe sono i true value, le colonne della matrice quelli predetti. Non ci sono situazioni in cui il classificatore risponde in modo anomalo (ad esempio sempre nello stesso modo)."
   ]
  },
  {
   "cell_type": "code",
   "execution_count": 28,
   "metadata": {},
   "outputs": [
    {
     "data": {
      "image/png": "[encoded data removed]",
      "text/plain": [
       "<Figure size 432x288 with 2 Axes>"
      ]
     },
     "metadata": {},
     "output_type": "display_data"
    }
   ],
   "source": [
    "plot_confusion_matrix(gridsearch.best_estimator_[1], X_test, y_test) #normalize='true'\n",
    "plt.grid(False)\n",
    "plt.show()"
   ]
  },
  {
   "cell_type": "markdown",
   "metadata": {},
   "source": [
    "## Risultato di Accuracy del miglior modello scelto"
   ]
  },
  {
   "cell_type": "markdown",
   "metadata": {},
   "source": [
    "Il valore di Test Accuracy qui mostrato è relativo a un solo predict del modello scelto come migliore tra tutti. La accuracy è molto sensibile dato che ci sono poche osservazioni nel dataset, e i suoi valori più realistici sono nella tabella della GridSearchCV mostrati precedentemente in \"mean_test_score\".\n",
    "\n",
    "In alcune istanze di esecuzione la accuracy di testing supera quella di training (cosa solitamente rara), per via dei pochi dati di training che non rendono affidabile la singola percentuale di un predict (ci sono dei range abbastanza ampi da 70-.\n",
    "\n",
    "A seconda dell'istanza di esecuzione e dello split train/test a monte potrebbe essere scelto un DecisionTreeClassifier o un modello LogisticRegression (entrambi con alcuni parametri ottimizzati dalla GridSearchCV)."
   ]
  },
  {
   "cell_type": "code",
   "execution_count": 29,
   "metadata": {},
   "outputs": [
    {
     "name": "stdout",
     "output_type": "stream",
     "text": [
      "DecisionTreeClassifier(max_depth=5, max_features='auto')\n",
      "Training Accuracy:  80.10471204188482 %\n",
      "Testing Accuracy:  70.83333333333334 %\n"
     ]
    }
   ],
   "source": [
    "best_grid_model = gridsearch.best_estimator_['model']\n",
    "print(best_grid_model)\n",
    "print('Training Accuracy: ', best_grid_model.score(X_train, y_train) * 100, '%')\n",
    "print('Testing Accuracy: ', best_grid_model.score(X_test, y_test) * 100, '%')"
   ]
  },
  {
   "cell_type": "code",
   "execution_count": null,
   "metadata": {},
   "outputs": [],
   "source": []
  }
 ],
 "metadata": {
  "kernelspec": {
   "display_name": "Python 3",
   "language": "python",
   "name": "python3"
  },
  "language_info": {
   "codemirror_mode": {
    "name": "ipython",
    "version": 3
   },
   "file_extension": ".py",
   "mimetype": "text/x-python",
   "name": "python",
   "nbconvert_exporter": "python",
   "pygments_lexer": "ipython3",
   "version": "3.7.0"
  }
 },
 "nbformat": 4,
 "nbformat_minor": 4
}
